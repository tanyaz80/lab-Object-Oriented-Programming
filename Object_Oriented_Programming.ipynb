{
 "cells": [
  {
   "cell_type": "markdown",
   "id": "9b1d821a",
   "metadata": {},
   "source": [
    "Crete a Python Tv class with a constructor and the following attributes:\n",
    "\n",
    ".on (Boolean)\n",
    ".volume (float in [0,100])\n",
    ".active_channel (int in [1,10])\n",
    ".input (str in [\"Anthena\", \"HDMI1\", \"HDMI2\", \"HDMI3\"])\n",
    ".size (float in [42, 50, 55, 65, 75])"
   ]
  },
  {
   "cell_type": "code",
   "execution_count": 60,
   "id": "421faaa5",
   "metadata": {},
   "outputs": [],
   "source": [
    "class Python_TV():\n",
    "    \n",
    "        \n",
    "    def __init__(self):\n",
    "        self.on = False\n",
    "        self.volume = 10\n",
    "        self.active_channel = 1\n",
    "        self.input_s = 'HDMI1'\n",
    "        self.size=42\n",
    "        #.switch_on()\n",
    "        #.switch_off()\n",
    "        #.set_volume(volume: int)\n",
    "        #.change_channel(channel: int)\n",
    "        #.set_input(value: str)\n",
    "    def switch_on(self):\n",
    "        self.on=True\n",
    "    def switch_off(self):\n",
    "        self.on=False\n",
    "    def set_volume(self, volume:int):\n",
    "        new_volume=int(input(\"Put a number to change a volume (from 1 to 100): \"))\n",
    "        if new_volume < 1 or new_volume > 100:\n",
    "            print(\"That is not a valid volume!\")\n",
    "        else:\n",
    "            self.set_volume=new_volume\n",
    "            print(\"The volume is now\", self.set_volume)\n",
    "    def change_channel(self, channel=1):\n",
    "        new_channel = int(input(\"What channel do you want to watch? (Enter a number between 1 and 10.): \"))\n",
    "        if new_channel < 1 or new_channel > 10:\n",
    "            print(\"That is not a valid channel!\")\n",
    "        else:\n",
    "            self.channel = new_channel\n",
    "            print(\"The channel is now\",self.channel)\n",
    "    def set_input(self, value='HDMI1'):\n",
    "        new_input = str(input(\"Choose setting (Antenna, HDMI1, HDMI2, HDMI3): \"))\n",
    "        self.input = new_input\n",
    "        print(\"The setting is now:\",self.input)\n",
    "    def set_size(self,value='42'):\n",
    "        new_size = int(input(\"Choose size(42,50,55,65,75): \"))\n",
    "        if new_size in [42, 50, 55, 65, 75]:\n",
    "            self.size = new_size\n",
    "            print(\"That is a size:\",self.size)\n",
    "        else:\n",
    "            print(\"The size is not valid.\")       \n",
    "\n",
    "        \n",
    "        \n",
    "        "
   ]
  },
  {
   "cell_type": "code",
   "execution_count": 61,
   "id": "9e7c0852",
   "metadata": {},
   "outputs": [],
   "source": [
    "tv=Python_TV()"
   ]
  },
  {
   "cell_type": "code",
   "execution_count": 62,
   "id": "95a9e73b",
   "metadata": {},
   "outputs": [
    {
     "data": {
      "text/plain": [
       "False"
      ]
     },
     "execution_count": 62,
     "metadata": {},
     "output_type": "execute_result"
    }
   ],
   "source": [
    "tv.on"
   ]
  },
  {
   "cell_type": "code",
   "execution_count": 63,
   "id": "2e562171",
   "metadata": {},
   "outputs": [
    {
     "data": {
      "text/plain": [
       "<bound method Python_TV.switch_on of <__main__.Python_TV object at 0x000001B7418DBD30>>"
      ]
     },
     "execution_count": 63,
     "metadata": {},
     "output_type": "execute_result"
    }
   ],
   "source": [
    "tv.switch_on"
   ]
  },
  {
   "cell_type": "code",
   "execution_count": 64,
   "id": "f7f1290c",
   "metadata": {},
   "outputs": [],
   "source": [
    "on=tv.switch_on()"
   ]
  },
  {
   "cell_type": "code",
   "execution_count": 52,
   "id": "6c51020d",
   "metadata": {},
   "outputs": [],
   "source": []
  },
  {
   "cell_type": "code",
   "execution_count": 65,
   "id": "46bd9780",
   "metadata": {},
   "outputs": [
    {
     "data": {
      "text/plain": [
       "10"
      ]
     },
     "execution_count": 65,
     "metadata": {},
     "output_type": "execute_result"
    }
   ],
   "source": [
    "tv.volume"
   ]
  },
  {
   "cell_type": "code",
   "execution_count": 66,
   "id": "16d15ac8",
   "metadata": {},
   "outputs": [
    {
     "data": {
      "text/plain": [
       "<bound method Python_TV.switch_off of <__main__.Python_TV object at 0x000001B7418DBD30>>"
      ]
     },
     "execution_count": 66,
     "metadata": {},
     "output_type": "execute_result"
    }
   ],
   "source": [
    "tv.switch_off"
   ]
  },
  {
   "cell_type": "code",
   "execution_count": 69,
   "id": "88a668f8",
   "metadata": {},
   "outputs": [
    {
     "data": {
      "text/plain": [
       "<bound method Python_TV.change_channel of <__main__.Python_TV object at 0x000001B7418DBD30>>"
      ]
     },
     "execution_count": 69,
     "metadata": {},
     "output_type": "execute_result"
    }
   ],
   "source": [
    "tv.change_channel"
   ]
  },
  {
   "cell_type": "code",
   "execution_count": 70,
   "id": "1f99692b",
   "metadata": {},
   "outputs": [
    {
     "name": "stdout",
     "output_type": "stream",
     "text": [
      "What channel do you want to watch? (Enter a number between 1 and 10.): 4\n",
      "The channel is now 4\n"
     ]
    }
   ],
   "source": [
    "new_ch=tv.change_channel()"
   ]
  },
  {
   "cell_type": "code",
   "execution_count": 71,
   "id": "796fd50e",
   "metadata": {},
   "outputs": [],
   "source": [
    "new_set=tv.set_input"
   ]
  },
  {
   "cell_type": "code",
   "execution_count": 72,
   "id": "3012c4d8",
   "metadata": {},
   "outputs": [
    {
     "name": "stdout",
     "output_type": "stream",
     "text": [
      "Choose setting (Antenna, HDMI1, HDMI2, HDMI3): HDMI1\n",
      "The setting is now: HDMI1\n"
     ]
    }
   ],
   "source": [
    "new_set()\n"
   ]
  },
  {
   "cell_type": "code",
   "execution_count": 73,
   "id": "9426b303",
   "metadata": {},
   "outputs": [],
   "source": [
    "new_size=tv.set_size"
   ]
  },
  {
   "cell_type": "code",
   "execution_count": 74,
   "id": "d4490796",
   "metadata": {},
   "outputs": [
    {
     "name": "stdout",
     "output_type": "stream",
     "text": [
      "Choose size(42,50,55,65,75): 42\n",
      "That is a size: 42\n"
     ]
    }
   ],
   "source": [
    "new_size()"
   ]
  },
  {
   "cell_type": "code",
   "execution_count": 42,
   "id": "2975759f",
   "metadata": {},
   "outputs": [],
   "source": []
  },
  {
   "cell_type": "code",
   "execution_count": 43,
   "id": "db33efa9",
   "metadata": {},
   "outputs": [],
   "source": []
  }
 ],
 "metadata": {
  "kernelspec": {
   "display_name": "Python 3 (ipykernel)",
   "language": "python",
   "name": "python3"
  },
  "language_info": {
   "codemirror_mode": {
    "name": "ipython",
    "version": 3
   },
   "file_extension": ".py",
   "mimetype": "text/x-python",
   "name": "python",
   "nbconvert_exporter": "python",
   "pygments_lexer": "ipython3",
   "version": "3.9.12"
  }
 },
 "nbformat": 4,
 "nbformat_minor": 5
}
